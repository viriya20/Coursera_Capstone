{
 "cells": [
  {
   "cell_type": "markdown",
   "metadata": {},
   "source": [
    "# 1. Introduction\n",
    "\n",
    "#### On September 11, 2001, the twin towers of the World Trade Center were destroyed and history recorded that over 3,000 people were killed. Not many people know that about the same number of people die every day on roads world wide1. This figure does not include at least the 30,000 others injured or disabled. \n",
    "\n",
    "This accumulates to over 1 million people killed and between 20–50 million injured or crippled in road accidents each year2. It is obvious that road traffic injuries are a major public health problem globally. In fact, as projected by the WHO that road traffic disability-adjusted life years (DALYs) loss will move from being the ninth leading cause of DALYs in 1999 to the third leading cause by year 2020.\n",
    "\n",
    "Traffic accidents incur immense losses to individuals, families and the country by being the cause of so many untimely deaths, debilitating injuries, damage to properties and loss in productivity. In addition to economic losses traffic accidents have a social component in that victims and/or their families are often beset with grief, hardship and even a degraded quality of life. \n",
    "\n",
    "Key facts from World Health Organization\n",
    "1. Approximately 1.35 million people die each year as a result of road traffic crashes.\n",
    "2. Road traffic crashes cost most countries 3% of their gross domestic product.\n",
    "3. More than half of all road traffic deaths are among vulnerable road users: pedestrians, cyclists, and motorcyclists.\n",
    "\n",
    "\n",
    "The project objective is to study and understand the important variable accidents occur which would help us (Government / People) to reduce the number of deaths and injuries from road traffic crashes in the future. "
   ]
  }
 ],
 "metadata": {
  "kernelspec": {
   "display_name": "Python 3",
   "language": "python",
   "name": "python3"
  },
  "language_info": {
   "codemirror_mode": {
    "name": "ipython",
    "version": 3
   },
   "file_extension": ".py",
   "mimetype": "text/x-python",
   "name": "python",
   "nbconvert_exporter": "python",
   "pygments_lexer": "ipython3",
   "version": "3.8.3"
  }
 },
 "nbformat": 4,
 "nbformat_minor": 1
}
